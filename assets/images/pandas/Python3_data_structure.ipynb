{
 "cells": [
  {
   "cell_type": "markdown",
   "metadata": {},
   "source": [
    "# Namespace\n",
    "* 為了將你寫的程式碼轉換成可以執行的程式，Python語言使用翻譯器(interpreter)來辨別你的程式碼，它會把你命名的變數分在不同的範圍內，這些範圍就叫作Namespace。\n",
    "* 每次創建一個變數時，翻譯器會在Namespace裡面記錄變數名稱和變數存的東西的記憶體位置。當有新的變數名稱時，翻譯器會先看新變數要存的值有沒有在紀錄裡，有的話就直接將新變數指定到該位置，例如：\n",
    "\n",
    "```python\n",
    "a = 2\n",
    "a = a + 1\n",
    "b = 2\n",
    "```\n",
    "\n",
    "\n",
    "<img src=\"https://cdn.programiz.com/sites/tutorial2program/files/aEquals2.jpg\" align=\"center\" height=400 width=500 >\n",
    "\n",
    "\n",
    "* 翻譯器認定的範圍大致上可以分成以下三類：\n",
    "    * Built-in: 開啟翻譯器時就會有的，裡面就是有預設的函數和以下會介紹的資料結構。\n",
    "    * Module: 要透過```import```來加入的函數和變數等等。\n",
    "    * Function: 通常是使用者自己定義的變數和函數。\n",
    "\n",
    "<img src=\"https://cdn.programiz.com/sites/tutorial2program/files/nested-namespaces-python.jpg\" align=\"center\" height=300 width=300>\n"
   ]
  },
  {
   "cell_type": "code",
   "execution_count": 16,
   "metadata": {},
   "outputs": [
    {
     "name": "stdout",
     "output_type": "stream",
     "text": [
      "10919456\n",
      "10919456\n"
     ]
    }
   ],
   "source": [
    "a = 2\n",
    "print(id(a))\n",
    "b = 2\n",
    "print(id(b))"
   ]
  },
  {
   "cell_type": "markdown",
   "metadata": {},
   "source": [
    "---\n",
    "# Data Structures\n",
    "* 資料結構就是各種用來存放資料的\"容器\"，並且可以很有效率地操作資料。\n",
    "\n",
    "\n",
    "## [Sequence](#Sequence)\n",
    "\n",
    "> _immutable v.s. mutable_\n",
    "\n",
    "   * [Lists](#Lists): mutable = 可以更改內容的\n",
    "   * [Tuples](#Tuples): immuntable = 不可以更改內容的\n",
    "   * [Range](#Range): immuntable\n",
    "   \n",
    "#### [Dictionary](#Dictionary)\n",
    "#### [Set](#Set)\n",
    "---"
   ]
  },
  {
   "cell_type": "markdown",
   "metadata": {},
   "source": [
    "## Sequence\n",
    "基本操作：\n",
    "\n",
    "* 檢查東西在不在sequence裡面\n",
    "\n",
    "```python\n",
    "x in seq\n",
    "x not in seq\n",
    "```\n",
    "\n",
    "* 把seq.頭尾相接(concatenation)\n",
    "\n",
    "```python\n",
    "a + b  # a, b要是同一種sequence\n",
    "a * n  #repeat n times\n",
    "```\n",
    "\n",
    "* 拿出sequence裡面的東西\n",
    "\n",
    "```python\n",
    "seq[i]\n",
    "seq[i:j]  # 拿出第i到第j-1個\n",
    "seq[i:j:k] # 從第i~第j中，每k個拿出一個\n",
    "```\n",
    "\n",
    "* seq.長度、最大/最小、東西出現次數和東西的位置\n",
    "\n",
    "```python\n",
    "len(seq), max(seq), min(seq)\n",
    "seq.index(x)\n",
    "seq.count(x)\n",
    "```\n",
    "\n",
    "* 更多在這裡：https://docs.python.org/3.6/library/stdtypes.html#typesseq-common"
   ]
  },
  {
   "cell_type": "markdown",
   "metadata": {},
   "source": [
    "---\n",
    "### Lists\n",
    "``` list = [item1, item2, item3, ...] ```\n",
    "* 通常使用在存放一堆相同種類的資料，類似於array(在電腦眼中是一排連續的櫃子)。\n",
    "\n",
    "| 0號櫃子 | 1號櫃子 | 2號櫃子 | \n",
    "|:---|:----|:---|\n",
    "|  ㄏ | ㄏ | ㄏ | \n",
    "\n",
    "* 實際長相: 電腦用array記錄每個項目的index，因此可以根據index找到各個項目的內容。[圖片來源](https://www.hackerrank.com/challenges/variable-sized-arrays/problem)\n",
    "\n",
    "<img src='images/variable_length_array.png' align=\"center\">\n",
    "\n",
    "| 0號櫃子 | 1號櫃子 | 2號櫃子 | \n",
    "|:---|:----|:---|\n",
    "| 紙條：\"東西在3樓\" | 紙條：\"沒東西\" | 紙條：\"東西在地下室\" | "
   ]
  },
  {
   "cell_type": "code",
   "execution_count": 45,
   "metadata": {},
   "outputs": [
    {
     "name": "stdout",
     "output_type": "stream",
     "text": [
      "<class 'list'> ['Steve Rogers', 'Tony Stark', 'Thor Odinson']\n"
     ]
    }
   ],
   "source": [
    "marvel_hero = [\"Steve Rogers\", \"Tony Stark\", \"Thor Odinson\"]\n",
    "print(type(marvel_hero), marvel_hero)"
   ]
  },
  {
   "cell_type": "code",
   "execution_count": 46,
   "metadata": {},
   "outputs": [
    {
     "name": "stdout",
     "output_type": "stream",
     "text": [
      "['Steve Rogers', 'Tony Stark', 'Bruce Banner', 'Thor Odinson', 'Hulk']\n"
     ]
    }
   ],
   "source": [
    "marvel_hero.append(\"Hulk\")\n",
    "marvel_hero.insert(2, \"Bruce Banner\") # insert \"Bruce Banner\" into index 2\n",
    "print(marvel_hero)"
   ]
  },
  {
   "cell_type": "code",
   "execution_count": 47,
   "metadata": {},
   "outputs": [
    {
     "name": "stdout",
     "output_type": "stream",
     "text": [
      "Hulk\n",
      "['Captain America', 'Tony Stark', 'Bruce Banner', 'Thor Odinson']\n"
     ]
    }
   ],
   "source": [
    "print(marvel_hero.pop()) # default: pop last item\n",
    "marvel_hero[0] = \"Captain America\"\n",
    "print(marvel_hero[1:-1])"
   ]
  },
  {
   "cell_type": "markdown",
   "metadata": {},
   "source": [
    "##### List comprehension: 可以直接在list裡面處理東西，不用再另外寫for-loop(但是花費時間差不多)"
   ]
  },
  {
   "cell_type": "code",
   "execution_count": 65,
   "metadata": {},
   "outputs": [
    {
     "name": "stdout",
     "output_type": "stream",
     "text": [
      "1.45 µs ± 21.4 ns per loop (mean ± std. dev. of 7 runs, 1000000 loops each)\n",
      "['BRUCE BANNER', 'CAPTAIN AMERICA', 'thor odinson', 'tony stark']\n"
     ]
    }
   ],
   "source": [
    "%timeit list_hero = [i.lower() if i.startswith('T') else i.upper() for i in marvel_hero]\n",
    "print(list_hero)"
   ]
  },
  {
   "cell_type": "code",
   "execution_count": 71,
   "metadata": {},
   "outputs": [
    {
     "name": "stdout",
     "output_type": "stream",
     "text": [
      "1.43 µs ± 22.8 ns per loop (mean ± std. dev. of 7 runs, 1000000 loops each)\n"
     ]
    }
   ],
   "source": [
    "%%timeit \n",
    "list_hero = []\n",
    "for i in marvel_hero:\n",
    "    if i.startswith('T'):\n",
    "        list_hero.append(i.lower())\n",
    "    else:\n",
    "        list_hero.append(i.upper())"
   ]
  },
  {
   "cell_type": "code",
   "execution_count": 72,
   "metadata": {},
   "outputs": [
    {
     "name": "stdout",
     "output_type": "stream",
     "text": [
      "['BRUCE BANNER', 'CAPTAIN AMERICA', 'thor odinson', 'tony stark']\n"
     ]
    }
   ],
   "source": [
    "print(list_hero)"
   ]
  },
  {
   "cell_type": "markdown",
   "metadata": {},
   "source": [
    "##### List可以排序，排序所花的時間和List長度成正比"
   ]
  },
  {
   "cell_type": "code",
   "execution_count": 51,
   "metadata": {},
   "outputs": [
    {
     "data": {
      "text/plain": [
       "['Bruce Banner', 'Captain America', 'Thor Odinson', 'Tony Stark']"
      ]
     },
     "execution_count": 51,
     "metadata": {},
     "output_type": "execute_result"
    }
   ],
   "source": [
    "marvel_hero.sort(reverse=False) # sort in-place\n",
    "marvel_hero"
   ]
  },
  {
   "cell_type": "code",
   "execution_count": 53,
   "metadata": {},
   "outputs": [
    {
     "name": "stdout",
     "output_type": "stream",
     "text": [
      "['BRUCE BANNER', 'CAPTAIN AMERICA', 'thor odinson', 'tony stark']\n"
     ]
    }
   ],
   "source": [
    "list_hero_sorted = sorted(list_hero) # return a sorted list\n",
    "print(list_hero_sorted)"
   ]
  },
  {
   "cell_type": "markdown",
   "metadata": {},
   "source": [
    "##### **注意！如果要複製list，不能直接指定給新的變數，這樣只是幫同一個list重新命名而已**\n",
    "* 此行為被稱為 shallow copy"
   ]
  },
  {
   "cell_type": "code",
   "execution_count": 21,
   "metadata": {},
   "outputs": [
    {
     "name": "stdout",
     "output_type": "stream",
     "text": [
      "140032783977672 140032783977672 True\n",
      "[8888, 2, 3, 4, 5]\n"
     ]
    }
   ],
   "source": [
    "a = [1, 2, 3, 4, 5]\n",
    "b = a\n",
    "print(id(a), id(b), id(a) == id(b))\n",
    "\n",
    "b[0] = 8888\n",
    "print(a)"
   ]
  },
  {
   "cell_type": "markdown",
   "metadata": {},
   "source": [
    "---\n",
    "### Tuples\n",
    "``` tuples = item1, item2, item3, ...```\n",
    "\n",
    "* 通常用來存放不同種類但是有關聯的資料。\n",
    "* ',' 決定是不是tuples，但是通常會用()來區分function call。\n",
    "\n",
    "例如：\n",
    "```python\n",
    "def f(a, b=0): \n",
    "    return a1*a2 + b\n",
    "\n",
    "f((87, 2)) # return 87*2 + 0\n",
    "```"
   ]
  },
  {
   "cell_type": "code",
   "execution_count": 24,
   "metadata": {},
   "outputs": [
    {
     "name": "stdout",
     "output_type": "stream",
     "text": [
      "<class 'tuple'> ('Iron Man', 3000)\n"
     ]
    }
   ],
   "source": [
    "love_iron = (\"Iron Man\", 3000)\n",
    "cap = \"Captain America\", \n",
    "\n",
    "print(type(love_iron), love_iron)"
   ]
  },
  {
   "cell_type": "code",
   "execution_count": 27,
   "metadata": {},
   "outputs": [
    {
     "name": "stdout",
     "output_type": "stream",
     "text": [
      "('Iron Man', 3000, 'Captain America')\n",
      "Does Iron in the \"love_iron\" tuples?: False\n",
      "Length of cap: 1\n"
     ]
    }
   ],
   "source": [
    "print(love_iron + cap)\n",
    "print(\"Does {} in the \\\"love_iron\\\" tuples?: {}\".format(\"Iron\", 'Iron' in love_iron))\n",
    "print(\"Length of cap: {}\".format(len(cap)))"
   ]
  },
  {
   "cell_type": "code",
   "execution_count": 21,
   "metadata": {},
   "outputs": [
    {
     "ename": "TypeError",
     "evalue": "unorderable types: int() > str()",
     "output_type": "error",
     "traceback": [
      "\u001b[0;31m---------------------------------------------------------------------------\u001b[0m",
      "\u001b[0;31mTypeError\u001b[0m                                 Traceback (most recent call last)",
      "\u001b[0;32m<ipython-input-21-79a3de59d6ab>\u001b[0m in \u001b[0;36m<module>\u001b[0;34m()\u001b[0m\n\u001b[0;32m----> 1\u001b[0;31m \u001b[0mmax\u001b[0m\u001b[0;34m(\u001b[0m\u001b[0mlove_iron\u001b[0m\u001b[0;34m)\u001b[0m\u001b[0;34m\u001b[0m\u001b[0m\n\u001b[0m",
      "\u001b[0;31mTypeError\u001b[0m: unorderable types: int() > str()"
     ]
    }
   ],
   "source": [
    "max(love_iron)"
   ]
  },
  {
   "cell_type": "markdown",
   "metadata": {},
   "source": [
    "* ```enumerate()``` 用在for-loop裡面可以依次輸出(i, 第i個項目)，這樣就不用另外去記錄你跑到第幾個項目"
   ]
  },
  {
   "cell_type": "code",
   "execution_count": 73,
   "metadata": {},
   "outputs": [
    {
     "name": "stdout",
     "output_type": "stream",
     "text": [
      "(0, 'Iron Man') <class 'tuple'>\n",
      "(1, 3000) <class 'tuple'>\n",
      "(2, 'Captain America') <class 'tuple'>\n"
     ]
    }
   ],
   "source": [
    "for e in enumerate(love_iron + cap):\n",
    "    print(e, type(e))"
   ]
  },
  {
   "cell_type": "markdown",
   "metadata": {},
   "source": [
    "---\n",
    "### Range\n",
    "* 產生一串**整數**，通常用在for-loop裡面來記錄次數或是當作index。\n",
    "* 如果要產生一串浮點數，就要用numpy.arange()。\n",
    "\n",
    "```range(start, stop[, step])```"
   ]
  },
  {
   "cell_type": "code",
   "execution_count": 62,
   "metadata": {},
   "outputs": [
    {
     "name": "stdout",
     "output_type": "stream",
     "text": [
      "The 2th even number is 2\n",
      "The 4th even number is 6\n",
      "The 6th even number is 10\n",
      "The 8th even number is 14\n"
     ]
    }
   ],
   "source": [
    "even_number = [x for x in range(0, 30, 2)]\n",
    "for i in range(2, 10, 2):\n",
    "    print(\"The {}th even number is {}\".format(i, even_number[i-1]))"
   ]
  },
  {
   "cell_type": "markdown",
   "metadata": {},
   "source": [
    "---\n",
    "## Dictionary\n",
    "\n",
    "``` {key1:value1, key2:value2, key3:value3, ...}```\n",
    "\n",
    "* 用來存放具有對應關係的資料。\n",
    "* ```key``` 不能重複，而且必須是hashable\n",
    "    * 兩個條件：\n",
    "    1. 建立之後不會更改數值(immutable)\n",
    "    2. 可以和其他東西比較是不是一樣\n",
    "\n",
    "\n",
    "* 實際長相：hash table\n",
    "    * 電腦透過一個叫hash的函數將key編碼成一串固定長度的數字，然後用這串數字當作value的index。\n",
    "    * 理想上，每串數字都不重複，這樣可以讓查詢速度在平均上不受裡面的東西數量影響。\n",
    "\n",
    "\n",
    "* [圖片來源](https://en.wikipedia.org/wiki/Hash_table)\n",
    "\n",
    "<img src='images/hash-table.png' height=600 width=400 align=\"center\">"
   ]
  },
  {
   "cell_type": "code",
   "execution_count": 4,
   "metadata": {},
   "outputs": [
    {
     "name": "stdout",
     "output_type": "stream",
     "text": [
      "<class 'dict'> {'Thor Odinson': 'Captain America', 'Steve Rogers': 'God of Thunder', 'Tony Stark': 'Iron Man'}\n"
     ]
    }
   ],
   "source": [
    "hero_id = {\"Steve Rogers\": 1, \n",
    "            \"Tony Stark\": 666, \n",
    "            \"Thor Odinson\": 999\n",
    "          }\n",
    "hero_code = dict(zip(hero_id.keys(), [\"Captain America\", \"God of Thunder\", \"Iron Man\"]))\n",
    "print(type(hero_code), hero_code)"
   ]
  },
  {
   "cell_type": "code",
   "execution_count": 5,
   "metadata": {},
   "outputs": [
    {
     "name": "stdout",
     "output_type": "stream",
     "text": [
      "The codename of hero_id 1 is God of Thunder\n"
     ]
    }
   ],
   "source": [
    "# dict[key]: 輸出相對應的value，如果key not in dict則輸出 KeyError\n",
    "# dict.get(key, default=None): 輸出相對應的value，如果key not in dict則輸出default\n",
    "\n",
    "hero_name = \"Steve Rogers\"\n",
    "print(\"The codename of hero_id {} is {}\".format(hero_id.get(hero_name), hero_code[hero_name]))"
   ]
  },
  {
   "cell_type": "code",
   "execution_count": 6,
   "metadata": {},
   "outputs": [
    {
     "name": "stdout",
     "output_type": "stream",
     "text": [
      "{'Bruce Banner': 87, 'Thor Odinson': 999, 'Steve Rogers': 1, 'Tony Stark': 666}\n"
     ]
    }
   ],
   "source": [
    "hero_id.update({\"Bruce Banner\": 87})\n",
    "print(hero_id)"
   ]
  },
  {
   "cell_type": "markdown",
   "metadata": {},
   "source": [
    "##### Dictionary View\n",
    "* 用來看dict裡面目前的值是什麼，可以放在for-loop一個一個處理：\n",
    "    * dict.keys() 會輸出keys\n",
    "    * dict.values() 會輸出values\n",
    "    * dict.items() 會輸出(key, value)的 tuples\n",
    "> **注意！輸出的順序不一定代表加入dictionary的順序！**\n",
    "> 但是key和value的對應順序會一樣。\n",
    "* 如果想要固定輸出的順序，就要用list或是[collections.OrderedDict](https://docs.python.org/3.6/library/collections.html#collections.OrderedDict)。"
   ]
  },
  {
   "cell_type": "code",
   "execution_count": 8,
   "metadata": {},
   "outputs": [
    {
     "name": "stdout",
     "output_type": "stream",
     "text": [
      "dict_keys(['Bruce Banner', 'Thor Odinson', 'Steve Rogers', 'Tony Stark'])\n",
      "dict_values([87, 999, 1, 666])\n",
      "dict_items([('Bruce Banner', 87), ('Thor Odinson', 999), ('Steve Rogers', 1), ('Tony Stark', 666)])\n"
     ]
    }
   ],
   "source": [
    "print(hero_id.keys())\n",
    "print(hero_id.values())\n",
    "print(hero_id.items())"
   ]
  },
  {
   "cell_type": "code",
   "execution_count": 81,
   "metadata": {},
   "outputs": [
    {
     "name": "stdout",
     "output_type": "stream",
     "text": [
      "Steve Rogers is Captain America\n",
      "Thor Odinson is God of Thunder\n",
      "Tony Stark is Iron Man\n"
     ]
    }
   ],
   "source": [
    "for name, code in hero_code.items():\n",
    "    print(\"{} is {}\".format(name, code))"
   ]
  },
  {
   "cell_type": "markdown",
   "metadata": {},
   "source": [
    "---\n",
    "## Set\n",
    "``` set = {item1, item2, item3, ...}```\n",
    "\n",
    "* 用來存放不重複的資料，放進重複的資料也只會保存一個。\n",
    "* set可以更改內容，frozenset不能更改內容(immuntable)。\n",
    "* 可以操作的動作和數學上的set很像：([圖片來源](https://www.learnbyexample.org/python-set/))\n",
    "    * union (```A | B```)\n",
    "    * intersection (```A & B```)\n",
    "    * difference (```A - B```)\n",
    "    * symmetric difference (```A ^ B```)\n",
    "    * subset (```A < B```)\n",
    "    * super-set (```A > B```)\n",
    "    \n",
    "<img src='images/set.png' height=600 width=400 align=\"center\">"
   ]
  },
  {
   "cell_type": "code",
   "execution_count": 9,
   "metadata": {},
   "outputs": [
    {
     "name": "stdout",
     "output_type": "stream",
     "text": [
      "<class 'set'> {'o', 7}\n"
     ]
    }
   ],
   "source": [
    "set_example = {\"o\", 7, 7, 7, 7, 7, 7, 7}\n",
    "print(type(set_example), set_example)"
   ]
  },
  {
   "cell_type": "code",
   "execution_count": 3,
   "metadata": {},
   "outputs": [
    {
     "name": "stdout",
     "output_type": "stream",
     "text": [
      "{'f', 'j', 'b', 'a', 'S', ' ', 'e', 'i', 'n', 'h'}\n",
      "{'y', 'o', 'N', 'a', ' ', 'i', 'm'}\n"
     ]
    }
   ],
   "source": [
    "A = set(\"Shin Shin ba fei jai\")\n",
    "B = set(\"Ni may yo may may\")\n",
    "print(A)\n",
    "print(B)"
   ]
  },
  {
   "cell_type": "code",
   "execution_count": 5,
   "metadata": {},
   "outputs": [
    {
     "data": {
      "text/plain": [
       "{'N', 'S', 'b', 'e', 'f', 'h', 'j', 'm', 'n', 'o', 'y'}"
      ]
     },
     "execution_count": 5,
     "metadata": {},
     "output_type": "execute_result"
    }
   ],
   "source": [
    "A ^ B"
   ]
  },
  {
   "cell_type": "code",
   "execution_count": 9,
   "metadata": {},
   "outputs": [
    {
     "ename": "TypeError",
     "evalue": "unhashable type: 'list'",
     "output_type": "error",
     "traceback": [
      "\u001b[0;31m---------------------------------------------------------------------------\u001b[0m",
      "\u001b[0;31mTypeError\u001b[0m                                 Traceback (most recent call last)",
      "\u001b[0;32m<ipython-input-9-f620dc793006>\u001b[0m in \u001b[0;36m<module>\u001b[0;34m()\u001b[0m\n\u001b[0;32m----> 1\u001b[0;31m \u001b[0ma\u001b[0m \u001b[0;34m=\u001b[0m \u001b[0mset\u001b[0m\u001b[0;34m(\u001b[0m\u001b[0;34m[\u001b[0m\u001b[0;34m[\u001b[0m\u001b[0;36m1\u001b[0m\u001b[0;34m]\u001b[0m\u001b[0;34m,\u001b[0m\u001b[0;36m2\u001b[0m\u001b[0;34m,\u001b[0m\u001b[0;36m3\u001b[0m\u001b[0;34m,\u001b[0m\u001b[0;36m3\u001b[0m\u001b[0;34m,\u001b[0m\u001b[0;36m3\u001b[0m\u001b[0;34m,\u001b[0m\u001b[0;36m3\u001b[0m\u001b[0;34m]\u001b[0m\u001b[0;34m)\u001b[0m\u001b[0;34m\u001b[0m\u001b[0m\n\u001b[0m\u001b[1;32m      2\u001b[0m \u001b[0ma\u001b[0m\u001b[0;34m\u001b[0m\u001b[0m\n",
      "\u001b[0;31mTypeError\u001b[0m: unhashable type: 'list'"
     ]
    }
   ],
   "source": [
    "a = set([[1],2,3,3,3,3])\n",
    "a"
   ]
  },
  {
   "cell_type": "markdown",
   "metadata": {},
   "source": [
    "-----\n",
    "# Numpy Array\n",
    "\n",
    "* 以分析資料來說，常見的形式就是矩陣(array)，python有一個package叫做numpy。\n",
    "* 這個package可以讓我們更快更方便的處理矩陣。\n",
    "\n",
    "<img src=\"https://numpy.org/_static/numpy_logo.png\" align=\"center\">\n",
    "\n",
    "\n",
    "* Full documentation: https://docs.scipy.org/doc/\n",
    "* 快速教學：http://cs231n.github.io/python-numpy-tutorial/#numpy-arrays\n",
    "\n",
    "\n",
    "```bash\n",
    "# 安裝它只要一個步驟：\n",
    "pip3 install numpy\n",
    "```"
   ]
  },
  {
   "cell_type": "code",
   "execution_count": 19,
   "metadata": {},
   "outputs": [],
   "source": [
    "import numpy as np"
   ]
  },
  {
   "cell_type": "code",
   "execution_count": 24,
   "metadata": {},
   "outputs": [
    {
     "name": "stdout",
     "output_type": "stream",
     "text": [
      "[[1 2 3]\n",
      " [4 5 6]]\n",
      "(2, 3) int64\n",
      "1 2 4\n"
     ]
    }
   ],
   "source": [
    "b = np.array([[1,2,3],[4,5,6]])    # 2D array\n",
    "print(b)\n",
    "print(b.shape, b.dtype)                     \n",
    "print(b[0, 0], b[0, 1], b[1, 0])   # array[row_index, col_index]"
   ]
  },
  {
   "cell_type": "markdown",
   "metadata": {},
   "source": [
    "##### 有許多方便建立矩陣的函數\n",
    "* 像是全部數值為0、全部數值為1、Identity等等，更多函數都在[這裡](https://docs.scipy.org/doc/numpy/reference/routines.array-creation.html#routines-array-creation)。"
   ]
  },
  {
   "cell_type": "code",
   "execution_count": 35,
   "metadata": {},
   "outputs": [
    {
     "data": {
      "text/plain": [
       "array([[0., 0., 0., 0., 0., 0., 0.],\n",
       "       [0., 0., 0., 0., 0., 0., 0.],\n",
       "       [0., 0., 0., 0., 0., 0., 0.],\n",
       "       [0., 0., 0., 0., 0., 0., 0.],\n",
       "       [0., 0., 0., 0., 0., 0., 0.],\n",
       "       [0., 0., 0., 0., 0., 0., 0.],\n",
       "       [0., 0., 0., 0., 0., 0., 0.],\n",
       "       [0., 0., 0., 0., 0., 0., 0.]])"
      ]
     },
     "execution_count": 35,
     "metadata": {},
     "output_type": "execute_result"
    }
   ],
   "source": [
    "z = np.zeros((8,7))\n",
    "z"
   ]
  },
  {
   "cell_type": "markdown",
   "metadata": {},
   "source": [
    "##### 取出array中的row或是column\n",
    "* 可以跟list一樣用```1:5```的語法。\n",
    "* 也可以用boolean的方式選取部分的數值。"
   ]
  },
  {
   "cell_type": "code",
   "execution_count": 34,
   "metadata": {},
   "outputs": [
    {
     "name": "stdout",
     "output_type": "stream",
     "text": [
      "[[ 1.  2.  3.  4.]\n",
      " [ 5.  6.  7.  8.]\n",
      " [ 9. 10. 11. 12.]\n",
      " [13. 14. 15. 16.]]\n",
      "[1. 5.]\n",
      "[13. 14. 15. 16.]\n"
     ]
    }
   ],
   "source": [
    "yeee = np.fromfile(join(\"data\", \"numpy_sample.txt\"), sep=' ')\n",
    "yeee = yeee.reshape((4,4)) \n",
    "print(yeee)\n",
    "print(yeee[:2,0]) # 取出第一個column的前兩個row\n",
    "print(yeee[-1,:]) # 取出最後一個row"
   ]
  },
  {
   "cell_type": "code",
   "execution_count": 36,
   "metadata": {},
   "outputs": [
    {
     "data": {
      "text/plain": [
       "array([ 7.,  8.,  9., 10., 11., 12., 13., 14., 15., 16.])"
      ]
     },
     "execution_count": 36,
     "metadata": {},
     "output_type": "execute_result"
    }
   ],
   "source": [
    "yeee[yeee > 6]"
   ]
  },
  {
   "cell_type": "markdown",
   "metadata": {},
   "source": [
    "##### 矩陣運算\n",
    "* ``` + - * / ``` 都是element-wise，也就是矩陣內每個數值各自獨立運算。\n",
    "* 矩陣相乘要用 ```dot```\n",
    "* 更多數學運算在[這裡](https://docs.scipy.org/doc/numpy/reference/routines.math.html)。"
   ]
  },
  {
   "cell_type": "code",
   "execution_count": 38,
   "metadata": {},
   "outputs": [
    {
     "name": "stdout",
     "output_type": "stream",
     "text": [
      "[[ True  True]\n",
      " [ True  True]]\n"
     ]
    }
   ],
   "source": [
    "x = np.array([[1,2],[3,4]])\n",
    "y = np.array([[5,6],[7,8]])\n",
    "\n",
    "print(x.dot(y) == np.dot(x, y))"
   ]
  },
  {
   "cell_type": "markdown",
   "metadata": {},
   "source": [
    "##### Broadcasting\n",
    "* 在numpy中，如果我們要對不同形狀的矩陣進行運算，我們可以直接在形狀相同的地方直接進行運算。"
   ]
  },
  {
   "cell_type": "code",
   "execution_count": 42,
   "metadata": {},
   "outputs": [
    {
     "name": "stdout",
     "output_type": "stream",
     "text": [
      "[[ 2  2  4]\n",
      " [ 5  5  7]\n",
      " [ 8  8 10]\n",
      " [11 11 13]]\n"
     ]
    }
   ],
   "source": [
    "x = np.array([[1,2,3], [4,5,6], [7,8,9], [10, 11, 12]])\n",
    "v = np.array([1, 0, 1])\n",
    "y = x + v\n",
    "\n",
    "print(y) # v 分別加在x的每一個row"
   ]
  },
  {
   "cell_type": "markdown",
   "metadata": {},
   "source": [
    "##### 如果想要使用兩個數值一樣的矩陣，必須注意shallow copy的問題。\n",
    "* 用```x[:]```拿出的東西是x的一個View，也就是說，看到的其實是x的data，更動View就是更動x。\n",
    "* 如果要真正複製一份出來，就要用```.copy()```。"
   ]
  },
  {
   "cell_type": "code",
   "execution_count": 43,
   "metadata": {},
   "outputs": [
    {
     "name": "stdout",
     "output_type": "stream",
     "text": [
      "[[9487    2    3]\n",
      " [   4    5    6]\n",
      " [   7    8    9]\n",
      " [  10   11   12]]\n"
     ]
    }
   ],
   "source": [
    "x = np.array([[1,2,3], [4,5,6], [7,8,9], [10, 11, 12]])\n",
    "\n",
    "shallow = x[:]\n",
    "deep = x.copy()\n",
    "shallow[0, 0] = 9487\n",
    "deep[0, 0] = 5566\n",
    "print(x)"
   ]
  },
  {
   "cell_type": "markdown",
   "metadata": {},
   "source": [
    "----\n",
    "# Files\n",
    "* 知道如何在程式裡面存放資料後，還需要知道怎麼存檔和讀檔。\n",
    "* 每打開一個檔案時，需要跟電腦說哪一種模式：\n",
    "\n",
    "| Access mode | access_flag | detail |\n",
    "|:------------|:-----|:-------|\n",
    "| Read only | r | 從檔案開頭讀取 |\n",
    "| Write only | w | 寫進去的東西會從頭開始寫，如果本來有內容，會覆蓋過去 |\n",
    "| Append only | a | 寫進去的東西會接在檔案後面 |\n",
    "| Enhance | + | 讀＋寫或是讀＋append |\n",
    "\n",
    "\n",
    "* f是個負責處理該檔案的管理者，可以透過f對檔案做事情。\n",
    "    * f記錄著現在讀取到檔案的哪裡。\n",
    "    \n",
    "    \n",
    "```python \n",
    "f = open(filepath, access_flag)\n",
    "f.close()\n",
    "```"
   ]
  },
  {
   "cell_type": "code",
   "execution_count": 12,
   "metadata": {},
   "outputs": [
    {
     "name": "stdout",
     "output_type": "stream",
     "text": [
      "天之道，損有餘而補不足，是故虛勝實，不足勝有餘。其意博，其理奧，其趣深。\n",
      "天地之像分，陰陽之侯烈，變化之由表，死生之兆章。\n",
      "不謀而遺跡自同，勿約而幽明斯契。\n",
      "稽其言有微，驗之事不忒。\n",
      "誠可謂至道之宗，奉生之始矣。\n",
      "假若天機迅發，妙識玄通。\n",
      "成謀雖屬乎生知，標格亦資於治訓。\n",
      "未嘗有行不由送，出不由產者亦。\n",
      "然刻意研精，探微索隱；或識契真要，則目牛無全。故動則有成，猶鬼神幽贊，而命世奇傑，時時間出焉。\n",
      "五藏六府之精氣，皆上注於目而為之精。\n",
      "精之案為眼，骨之精為瞳子；筋之精為黑眼，血之精為力絡。\n",
      "其案氣之精為白眼，肌肉之精為約束。\n",
      "裹擷筋骨血氣之精，而與脈並為系。\n",
      "\n",
      "[]\n",
      "['天之道，損有餘而補不足，是故虛勝實，不足勝有餘。其意博，其理奧，其趣深。\\n'] <class 'list'>\n",
      "天地之像分，陰陽之侯烈，變化之由表，死生之兆章。\n",
      " <class 'str'>\n",
      "\n",
      "Line: 0: 不謀而遺跡自同，勿約而幽明斯契。\n",
      "\n"
     ]
    }
   ],
   "source": [
    "from os.path import join\n",
    "\n",
    "with open(join(\"data\", \"heyhey.txt\"), 'r', encoding='utf-8') as f:\n",
    "    print(f.read() + '\\n')\n",
    "    print(f.readlines())\n",
    "    \n",
    "    f.seek(0) # 回到檔案開頭\n",
    "    readlines = f.readlines(1)\n",
    "    print(readlines, type(readlines)) # 以 '\\n'為界線，一行一行讀\n",
    "    single_line = f.readline()\n",
    "    print(single_line, type(single_line)) # 一次只讀一行\n",
    "    print()\n",
    "    \n",
    "    # 也可以放進for-loop 一行一行讀\n",
    "    for i, line in enumerate(f):\n",
    "        print(\"Line: {}: {}\".format(i, line))\n",
    "        break"
   ]
  },
  {
   "cell_type": "code",
   "execution_count": 14,
   "metadata": {},
   "outputs": [
    {
     "name": "stdout",
     "output_type": "stream",
     "text": [
      "Shin Shin ba fei jai\n"
     ]
    }
   ],
   "source": [
    "with open(join(\"data\", \"test.txt\"), 'w+', encoding='utf-8') as f:\n",
    "    f.write(\"Shin Shin ba fei jai\")\n",
    "    f.seek(0)\n",
    "    print(f.read())"
   ]
  },
  {
   "cell_type": "markdown",
   "metadata": {},
   "source": [
    "----\n",
    "### Reference\n",
    "* 如果想看更多python相關的教學，網路上有更多詳細的資源喔。\n",
    "\n",
    "\n",
    "* 一些Python的教學資源：\n",
    "    * https://www.programiz.com/python-programming\n",
    "    * https://www.tutorialspoint.com/python3\n",
    "    * 有很多範例：https://www.learnbyexample.org/python-introduction/\n",
    "\n",
    "\n",
    "* 官方文件：https://docs.python.org/3.6/library/\n",
    "    * 詳細python設計FAQ:https://docs.python.org/3.6/faq/design.html\n",
    "\n",
    "\n",
    "* 養成寫好程式的習慣：https://www.python.org/dev/peps/pep-0008/"
   ]
  }
 ],
 "metadata": {
  "kernelspec": {
   "display_name": "Python 3",
   "language": "python",
   "name": "python3"
  },
  "language_info": {
   "codemirror_mode": {
    "name": "ipython",
    "version": 3
   },
   "file_extension": ".py",
   "mimetype": "text/x-python",
   "name": "python",
   "nbconvert_exporter": "python",
   "pygments_lexer": "ipython3",
   "version": "3.5.2"
  }
 },
 "nbformat": 4,
 "nbformat_minor": 2
}
